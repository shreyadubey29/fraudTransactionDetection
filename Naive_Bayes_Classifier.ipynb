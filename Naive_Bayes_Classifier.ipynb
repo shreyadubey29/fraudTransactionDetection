{
 "cells": [
  {
   "cell_type": "markdown",
   "metadata": {},
   "source": [
    "# Programming Assignment 3\n",
    "* CSCI-4930/5930 ML Spring 2019\n",
    "* Author: Shreya Dubey "
   ]
  },
  {
   "cell_type": "markdown",
   "metadata": {},
   "source": [
    "# Naive Bayes Classifier"
   ]
  },
  {
   "cell_type": "code",
   "execution_count": 1,
   "metadata": {},
   "outputs": [],
   "source": [
    "import numpy as np\n",
    "import pandas as pd\n",
    "import matplotlib.pyplot as plt\n",
    "import seaborn as sns\n",
    "from scipy import stats\n",
    "sns.set()\n",
    "import sklearn\n",
    "from sklearn import metrics\n",
    "from sklearn.model_selection import train_test_split\n",
    "import warnings\n",
    "import math\n",
    "warnings.filterwarnings(\"ignore\",category=FutureWarning)\n",
    "warnings.filterwarnings(\"ignore\",category=DeprecationWarning)"
   ]
  },
  {
   "cell_type": "code",
   "execution_count": 2,
   "metadata": {},
   "outputs": [],
   "source": [
    "# Reading the data from csv file\n",
    "X = pd.read_csv(\"Set-A.X.csv\")\n",
    "Y = pd.read_csv(\"Set-A.y.csv\")"
   ]
  },
  {
   "cell_type": "code",
   "execution_count": 3,
   "metadata": {},
   "outputs": [],
   "source": [
    "#Reading the B data set csv file\n",
    "X_B = pd.read_csv(\"Set-B.X.csv\")\n",
    "Y_B = pd.read_csv(\"Set-B.y.csv\")"
   ]
  },
  {
   "cell_type": "markdown",
   "metadata": {},
   "source": [
    "I have replaced the missing values by the most frequent value"
   ]
  },
  {
   "cell_type": "code",
   "execution_count": 4,
   "metadata": {},
   "outputs": [],
   "source": [
    "# Handling the missing values\n",
    "m = X['domain1']\n",
    "most_frequent = pd.get_dummies(m).sum().sort_values(ascending=False).index[0] \n",
    "def replace_most_frequent(x):\n",
    "    if pd.isnull(x):\n",
    "        return most_frequent\n",
    "    else:\n",
    "        return x\n",
    "new_m = m.map(replace_most_frequent)\n",
    "X['domain1'] = new_m\n",
    "#print(\"new Value = \",X.iloc[70382]['domain1'])\n",
    "\n",
    "# Handling the missing values in B data set\n",
    "m = X_B['state1']\n",
    "most_frequent = pd.get_dummies(m).sum().sort_values(ascending=False).index[0] \n",
    "def replace_most_frequent(x):\n",
    "    if pd.isnull(x):\n",
    "        return most_frequent\n",
    "    else:\n",
    "        return x\n",
    "new_m = m.map(replace_most_frequent)\n",
    "X_B['state1'] = new_m"
   ]
  },
  {
   "cell_type": "code",
   "execution_count": 5,
   "metadata": {},
   "outputs": [],
   "source": [
    "# Changing the categorical value to numerical value\n",
    "from sklearn.preprocessing import LabelEncoder\n",
    "encoder = LabelEncoder()\n",
    "\n",
    "df_train_dum = X['state1']\n",
    "df_train_dum_encoded = encoder.fit_transform(df_train_dum)\n",
    "\n",
    "df_train_dum1 = X['domain1']\n",
    "df_train_dum1_encoded = encoder.fit_transform(df_train_dum1)\n",
    "\n",
    "X['state1'] = df_train_dum_encoded\n",
    "X['domain1'] = df_train_dum1_encoded\n",
    "\n",
    "df_train_B_dum = X_B['state1']\n",
    "df_train_B_dum_encoded = encoder.fit_transform(df_train_B_dum)\n",
    "\n",
    "df_train_B_dum1 = X_B['custAttr2']\n",
    "df_train_B_dum1_encoded = encoder.fit_transform(df_train_B_dum1)\n",
    "\n",
    "X_B['state1'] = df_train_B_dum_encoded\n",
    "X_B['custAttr2'] = df_train_B_dum1_encoded"
   ]
  },
  {
   "cell_type": "code",
   "execution_count": 6,
   "metadata": {},
   "outputs": [],
   "source": [
    "# Changing to numpy\n",
    "X = X.values\n",
    "X_new = X[0:94681,:]\n",
    "\n",
    "X_B = X_B.values\n",
    "X_B_new = X_B[0:99999,:]"
   ]
  },
  {
   "cell_type": "code",
   "execution_count": 7,
   "metadata": {},
   "outputs": [],
   "source": [
    "# Joining the X and Y into one data set\n",
    "X_new = np.append(X_new,Y,axis=1)\n",
    "\n",
    "X_B_new = np.append(X_B_new,Y_B,axis=1)"
   ]
  },
  {
   "cell_type": "markdown",
   "metadata": {},
   "source": [
    "Task 2.5 Creating a smaller database which is less skewed by taking all the samples that are positive and taking less samples that are negative so that the positive samples are not a small percentage of the data set."
   ]
  },
  {
   "cell_type": "code",
   "execution_count": 8,
   "metadata": {},
   "outputs": [],
   "source": [
    "# Creating less skewed data set\n",
    "m = 0\n",
    "n = 0\n",
    "X_train_whole = np.empty((20940,20))\n",
    "X_not_fraud = np.empty((92587,20))\n",
    "for a in X_new:\n",
    "    if(a[-1]==1):\n",
    "        X_train_whole[m,:] = a\n",
    "        m = m+1\n",
    "    else:\n",
    "        X_not_fraud[n,:] = a\n",
    "        n = n+1\n",
    "\n",
    "for j in range (18846):\n",
    "    X_train_whole[m+j,:] = X_not_fraud[j,:]\n",
    "    \n",
    "# Creating a less skewed data set for B data set\n",
    "m1 = 0\n",
    "n1 = 0\n",
    "X_train_B_whole = np.empty((26540,20))\n",
    "X_not_B_fraud = np.empty((97345,20))\n",
    "for a in X_B_new:\n",
    "    if(a[-1]==1):\n",
    "        X_train_B_whole[m1,:] = a\n",
    "        m1 = m1+1\n",
    "    else:\n",
    "        X_not_B_fraud[n1,:] = a\n",
    "        n1 = n1+1\n",
    "\n",
    "for j in range (23886):\n",
    "    X_train_B_whole[m1+j,:] = X_not_B_fraud[j,:]"
   ]
  },
  {
   "cell_type": "markdown",
   "metadata": {},
   "source": [
    "Using the appropriate command here between using the whole data set and using a smaller data set which is less skewed"
   ]
  },
  {
   "cell_type": "code",
   "execution_count": 9,
   "metadata": {},
   "outputs": [],
   "source": [
    "# Splitting data into training and testing data\n",
    "#train_set, test_set = train_test_split(X_new, test_size=0.20)\n",
    "train_set, test_set = train_test_split(X_train_whole, test_size=0.20 )\n",
    "\n",
    "#train_set_B, test_set_B = train_test_split(X_B_new, test_size=0.20)\n",
    "train_set_B, test_set_B = train_test_split(X_train_B_whole, test_size=0.20 )"
   ]
  },
  {
   "cell_type": "code",
   "execution_count": 10,
   "metadata": {},
   "outputs": [],
   "source": [
    "#seperating by class\n",
    "def separateByClass(dataset):\n",
    "    separated = {}\n",
    "    for i in range(len(dataset)):\n",
    "        vector = dataset[i]\n",
    "        if (vector[-1] not in separated):\n",
    "            separated[vector[-1]] = []\n",
    "        separated[vector[-1]].append(vector)\n",
    "    return separated"
   ]
  },
  {
   "cell_type": "code",
   "execution_count": 11,
   "metadata": {},
   "outputs": [],
   "source": [
    "# function for mean and standard deviation\n",
    "def mean(numbers):\n",
    "    return sum(numbers)/float(len(numbers))\n",
    " \n",
    "def stdev(numbers):\n",
    "    avg = mean(numbers)\n",
    "    variance = sum([pow(x-avg,2) for x in numbers])/float(len(numbers)-1)\n",
    "    return math.sqrt(variance)"
   ]
  },
  {
   "cell_type": "code",
   "execution_count": 12,
   "metadata": {},
   "outputs": [],
   "source": [
    "#function to generate summary\n",
    "def summarize(dataset):\n",
    "    summaries = [(mean(attribute), stdev(attribute)) for attribute in zip(*dataset)]\n",
    "    del summaries[-1]\n",
    "    return summaries"
   ]
  },
  {
   "cell_type": "code",
   "execution_count": 13,
   "metadata": {},
   "outputs": [],
   "source": [
    "# summary after seperating by class\n",
    "def summarizeByClass(dataset):\n",
    "    separated = separateByClass(dataset)\n",
    "    summaries = {}\n",
    "    for classValue, instances in separated.items():\n",
    "        summaries[classValue] = summarize(instances)\n",
    "    return summaries"
   ]
  },
  {
   "cell_type": "code",
   "execution_count": 14,
   "metadata": {},
   "outputs": [],
   "source": [
    "# Function to calculate probability of one variable\n",
    "def calculateProbability(x, mean, stdev):\n",
    "    exponent = math.exp(-(math.pow(x-mean,2)/(2*math.pow(stdev,2))))\n",
    "    return (1 / (math.sqrt(2*math.pi) * stdev)) * exponent"
   ]
  },
  {
   "cell_type": "code",
   "execution_count": 15,
   "metadata": {},
   "outputs": [],
   "source": [
    "# calculating probability by class\n",
    "def calculateClassProbabilities(summaries, inputVector,probability1):\n",
    "    probabilities = {}\n",
    "    for classValue, classSummaries in summaries.items():\n",
    "        probabilities[classValue] = 1\n",
    "        for i in range(len(classSummaries)):\n",
    "            mean, stdev = classSummaries[i]\n",
    "            x = inputVector[i]\n",
    "            probabilities[classValue] *= calculateProbability(x, mean, stdev)\n",
    "    probabilities[0.0] *=probability1[0]\n",
    "    probabilities[1.0] *=probability1[1]\n",
    "    return probabilities"
   ]
  },
  {
   "cell_type": "code",
   "execution_count": 16,
   "metadata": {},
   "outputs": [],
   "source": [
    "# Function to predict best label\n",
    "def predict(summaries, inputVector, probabilities1):\n",
    "    probabilities = calculateClassProbabilities(summaries, inputVector, probabilities1)\n",
    "    bestLabel, bestProb = None, -1\n",
    "    for classValue, probability in probabilities.items():\n",
    "        if(classValue==1.0):\n",
    "            prob_score=probability\n",
    "        if bestLabel is None or probability > bestProb:\n",
    "            bestProb = probability\n",
    "            bestLabel = classValue\n",
    "    return bestLabel, prob_score"
   ]
  },
  {
   "cell_type": "code",
   "execution_count": 27,
   "metadata": {},
   "outputs": [],
   "source": [
    "# Function to get prediction for data set\n",
    "def getPredictions(summaries, testSet,probabilities):\n",
    "    predictions = []\n",
    "    predict_score = []\n",
    "    for i in range(len(testSet)):\n",
    "        result,prob_score = predict(summaries, testSet[i],probabilities[i])\n",
    "        predictions.append(result)\n",
    "        predict_score.append(prob_score)\n",
    "    return predictions,predict_score"
   ]
  },
  {
   "cell_type": "code",
   "execution_count": 28,
   "metadata": {},
   "outputs": [],
   "source": [
    "# Using Laplacian smoothing\n",
    "def calculateProb(n1,n0,s):\n",
    "    probFor1 = (n1+1)/(n1+n0+s)\n",
    "    probFor0 = (n0+1)/(n1+n0+s)\n",
    "    return probFor0, probFor1"
   ]
  },
  {
   "cell_type": "code",
   "execution_count": 29,
   "metadata": {},
   "outputs": [],
   "source": [
    "def getN1andN0(value,index,dataset):\n",
    "    n1 = 0\n",
    "    n0 = 0\n",
    "    variable = dataset[:,index]\n",
    "    classVector = dataset[:,-1]\n",
    "    for i in range (len(variable)):\n",
    "        if(variable[i]==value):\n",
    "            if(classVector[i]==1):\n",
    "                n1 =n1+1\n",
    "            else:\n",
    "                n0 = n0+1\n",
    "    return n1, n0"
   ]
  },
  {
   "cell_type": "code",
   "execution_count": 30,
   "metadata": {},
   "outputs": [],
   "source": [
    "def getS(dataset):\n",
    "    numOfValues = np.empty(dataset.shape[1]-1)\n",
    "    for i in range (dataset.shape[1]-1):\n",
    "        numOfValues[i] = len(np.unique(dataset[:,i]))\n",
    "    return numOfValues"
   ]
  },
  {
   "cell_type": "code",
   "execution_count": 31,
   "metadata": {},
   "outputs": [],
   "source": [
    "def calculateProbDiscrete(dataset):\n",
    "    numOfValues = getS(dataset)\n",
    "    probability = np.empty((dataset.shape[0],2))\n",
    "    for row in range (dataset.shape[0]):\n",
    "        probability[row,0] = 1\n",
    "        probability[row,1] = 1\n",
    "        for var in range (dataset.shape[1]-1):\n",
    "            value = dataset[row,var]\n",
    "            index = var\n",
    "            n1,n0 = getN1andN0(value,index,dataset)\n",
    "            prob0,prob1 = calculateProb(n1,n0,numOfValues[var])\n",
    "        probability[row,0] *=prob0\n",
    "        probability[row,1] *=prob1\n",
    "    return probability"
   ]
  },
  {
   "cell_type": "code",
   "execution_count": 32,
   "metadata": {},
   "outputs": [],
   "source": [
    "def getCost(tp,tn,fp,fn):\n",
    "    Cost2 = (tp*(-1))+(tn*(0))+(fp*100)+(fn*(1))\n",
    "    Cost1 = (tp*(-1))+(tn*(0))+(fp*1)+(fn*(100))\n",
    "    return Cost1,Cost2"
   ]
  },
  {
   "cell_type": "code",
   "execution_count": 33,
   "metadata": {},
   "outputs": [],
   "source": [
    "# Function to get results\n",
    "def getResult(Y_test,learned_Y,y_score):\n",
    "    confusion_matrix = metrics.confusion_matrix(Y_test,learned_Y)\n",
    "    tn, fp, fn, tp = metrics.confusion_matrix(Y_test,learned_Y).ravel()\n",
    "    accuracy = metrics.accuracy_score(Y_test,learned_Y)\n",
    "    precision = metrics.precision_score(Y_test,learned_Y) \n",
    "    recall = metrics.recall_score(Y_test,learned_Y)\n",
    "    fscore = metrics.f1_score(Y_test,learned_Y)\n",
    "    fpr, tpr, thresholds = metrics.roc_curve(Y_test,y_score) \n",
    "    auc = metrics.roc_auc_score(Y_test,y_score)\n",
    "    \n",
    "    print(\"Naive Bayes Classifier\")\n",
    "    print(\"confusion matrix = \",confusion_matrix)\n",
    "    print(\"tp = \",tp,\"fp = \",fp,\"fn = \",fn,\"tn = \",tn)\n",
    "    print(\"accuracy score  = \",accuracy)\n",
    "    print(\"precision = \",precision)\n",
    "    print(\"recall = \",recall)\n",
    "    print(\"F1-score = \",fscore)\n",
    "    print(\"auc = \",auc)\n",
    "    cost1,cost2 = getCost(tp,tn,fp,fn)\n",
    "    print(\"Cost for less false negative = \",cost1)\n",
    "    print(\"Cost for less false positive = \",cost2)\n",
    "    \n",
    "    plt.plot(fpr,tpr)\n",
    "    plt.plot(fpr,fpr,linestyle = 'dashed', color = 'olive')\n",
    "    plt.xlabel('False Positive Rate')\n",
    "    plt.ylabel('True Positive Rate')\n",
    "    plt.title('ROC Curve')\n",
    "    plt.show()"
   ]
  },
  {
   "cell_type": "code",
   "execution_count": 34,
   "metadata": {},
   "outputs": [],
   "source": [
    "# seperating Y from train and test data\n",
    "Y_train = train_set[:,-1]\n",
    "Y_test = test_set[:,-1]\n",
    "\n",
    "Y_train_B = train_set_B[:,-1]\n",
    "Y_test_B = test_set_B[:,-1]"
   ]
  },
  {
   "cell_type": "code",
   "execution_count": 35,
   "metadata": {},
   "outputs": [],
   "source": [
    "# Preparing data by seperating continuos and discrete variables\n",
    "def prepareData(train_set):\n",
    "    continuos_var = np.empty((train_set.shape[0],7))\n",
    "    continuos_var[:,0] = train_set[:,0]\n",
    "    continuos_var[:,1] = train_set[:,3]\n",
    "    continuos_var[:,2] = train_set[:,5]\n",
    "    continuos_var[:,3] = train_set[:,9]\n",
    "    continuos_var[:,4] = train_set[:,10]\n",
    "    continuos_var[:,5] = train_set[:,11]\n",
    "    continuos_var[:,6] = train_set[:,-1]\n",
    "    discrete_var = train_set\n",
    "    discrete_var = np.delete(discrete_var,0,1)\n",
    "    discrete_var = np.delete(discrete_var,2,1)\n",
    "    discrete_var = np.delete(discrete_var,3,1)\n",
    "    discrete_var = np.delete(discrete_var,6,1)\n",
    "    discrete_var = np.delete(discrete_var,6,1)\n",
    "    discrete_var = np.delete(discrete_var,6,1)\n",
    "    return continuos_var,discrete_var"
   ]
  },
  {
   "cell_type": "markdown",
   "metadata": {},
   "source": [
    "Task 2.1 5 fold cross validation"
   ]
  },
  {
   "cell_type": "code",
   "execution_count": 41,
   "metadata": {},
   "outputs": [
    {
     "name": "stdout",
     "output_type": "stream",
     "text": [
      "Naive Bayes Classifier\n",
      "confusion matrix =  [[12026    33]\n",
      " [ 1294    48]]\n",
      "tp =  48 fp =  33 fn =  1294 tn =  12026\n",
      "accuracy score  =  0.9009775389896276\n",
      "precision =  0.5925925925925926\n",
      "recall =  0.03576751117734724\n",
      "F1-score =  0.067463106113844\n",
      "auc =  0.5488746709700654\n",
      "Cost for less false negative =  129385\n",
      "Cost for less false positive =  4546\n"
     ]
    },
    {
     "data": {
      "image/png": "[encoded data removed]",
      "text/plain": [
       "<Figure size 432x288 with 1 Axes>"
      ]
     },
     "metadata": {
      "needs_background": "light"
     },
     "output_type": "display_data"
    },
    {
     "name": "stdout",
     "output_type": "stream",
     "text": [
      "Naive Bayes Classifier\n",
      "confusion matrix =  [[3016    6]\n",
      " [ 315   14]]\n",
      "tp =  14 fp =  6 fn =  315 tn =  3016\n",
      "accuracy score  =  0.9042076991942704\n",
      "precision =  0.7\n",
      "recall =  0.0425531914893617\n",
      "F1-score =  0.08022922636103152\n",
      "auc =  0.5345078341403166\n",
      "Cost for less false negative =  31492\n",
      "Cost for less false positive =  901\n"
     ]
    },
    {
     "data": {
      "image/png": "[encoded data removed]",
      "text/plain": [
       "<Figure size 432x288 with 1 Axes>"
      ]
     },
     "metadata": {
      "needs_background": "light"
     },
     "output_type": "display_data"
    },
    {
     "name": "stdout",
     "output_type": "stream",
     "text": [
      "Naive Bayes Classifier\n",
      "confusion matrix =  [[11994    35]\n",
      " [ 1320    52]]\n",
      "tp =  52 fp =  35 fn =  1320 tn =  11994\n",
      "accuracy score  =  0.8988881426759197\n",
      "precision =  0.5977011494252874\n",
      "recall =  0.037900874635568516\n",
      "F1-score =  0.0712816997943797\n",
      "auc =  0.5375948539814012\n",
      "Cost for less false negative =  131983\n",
      "Cost for less false positive =  4768\n"
     ]
    },
    {
     "data": {
      "image/png": "[encoded data removed]",
      "text/plain": [
       "<Figure size 432x288 with 1 Axes>"
      ]
     },
     "metadata": {
      "needs_background": "light"
     },
     "output_type": "display_data"
    },
    {
     "ename": "KeyboardInterrupt",
     "evalue": "",
     "output_type": "error",
     "traceback": [
      "\u001b[1;31m---------------------------------------------------------------------------\u001b[0m",
      "\u001b[1;31mKeyboardInterrupt\u001b[0m                         Traceback (most recent call last)",
      "\u001b[1;32m<ipython-input-41-5fa7938d34f8>\u001b[0m in \u001b[0;36m<module>\u001b[1;34m\u001b[0m\n\u001b[0;32m     15\u001b[0m     \u001b[0mconti_train\u001b[0m\u001b[1;33m,\u001b[0m\u001b[0mdis_train\u001b[0m \u001b[1;33m=\u001b[0m \u001b[0mprepareData\u001b[0m\u001b[1;33m(\u001b[0m\u001b[0mtest1\u001b[0m\u001b[1;33m)\u001b[0m\u001b[1;33m\u001b[0m\u001b[1;33m\u001b[0m\u001b[0m\n\u001b[0;32m     16\u001b[0m     \u001b[0msummaries_train\u001b[0m \u001b[1;33m=\u001b[0m \u001b[0msummarizeByClass\u001b[0m\u001b[1;33m(\u001b[0m\u001b[0mconti_train\u001b[0m\u001b[1;33m)\u001b[0m\u001b[1;33m\u001b[0m\u001b[1;33m\u001b[0m\u001b[0m\n\u001b[1;32m---> 17\u001b[1;33m     \u001b[0mprob1\u001b[0m \u001b[1;33m=\u001b[0m \u001b[0mcalculateProbDiscrete\u001b[0m\u001b[1;33m(\u001b[0m\u001b[0mdis_train\u001b[0m\u001b[1;33m)\u001b[0m\u001b[1;33m\u001b[0m\u001b[1;33m\u001b[0m\u001b[0m\n\u001b[0m\u001b[0;32m     18\u001b[0m     \u001b[0mpredictions\u001b[0m\u001b[1;33m,\u001b[0m\u001b[0my_score\u001b[0m \u001b[1;33m=\u001b[0m \u001b[0mgetPredictions\u001b[0m\u001b[1;33m(\u001b[0m\u001b[0msummaries_train\u001b[0m\u001b[1;33m,\u001b[0m \u001b[0mconti_train\u001b[0m\u001b[1;33m,\u001b[0m \u001b[0mprob1\u001b[0m\u001b[1;33m)\u001b[0m\u001b[1;33m\u001b[0m\u001b[1;33m\u001b[0m\u001b[0m\n\u001b[0;32m     19\u001b[0m     \u001b[0mgetResult\u001b[0m\u001b[1;33m(\u001b[0m\u001b[0my_test\u001b[0m\u001b[1;33m,\u001b[0m\u001b[0mpredictions\u001b[0m\u001b[1;33m,\u001b[0m\u001b[0my_score\u001b[0m\u001b[1;33m)\u001b[0m\u001b[1;33m\u001b[0m\u001b[1;33m\u001b[0m\u001b[0m\n",
      "\u001b[1;32m<ipython-input-31-9efee7eca3e8>\u001b[0m in \u001b[0;36mcalculateProbDiscrete\u001b[1;34m(dataset)\u001b[0m\n\u001b[0;32m      8\u001b[0m             \u001b[0mvalue\u001b[0m \u001b[1;33m=\u001b[0m \u001b[0mdataset\u001b[0m\u001b[1;33m[\u001b[0m\u001b[0mrow\u001b[0m\u001b[1;33m,\u001b[0m\u001b[0mvar\u001b[0m\u001b[1;33m]\u001b[0m\u001b[1;33m\u001b[0m\u001b[1;33m\u001b[0m\u001b[0m\n\u001b[0;32m      9\u001b[0m             \u001b[0mindex\u001b[0m \u001b[1;33m=\u001b[0m \u001b[0mvar\u001b[0m\u001b[1;33m\u001b[0m\u001b[1;33m\u001b[0m\u001b[0m\n\u001b[1;32m---> 10\u001b[1;33m             \u001b[0mn1\u001b[0m\u001b[1;33m,\u001b[0m\u001b[0mn0\u001b[0m \u001b[1;33m=\u001b[0m \u001b[0mgetN1andN0\u001b[0m\u001b[1;33m(\u001b[0m\u001b[0mvalue\u001b[0m\u001b[1;33m,\u001b[0m\u001b[0mindex\u001b[0m\u001b[1;33m,\u001b[0m\u001b[0mdataset\u001b[0m\u001b[1;33m)\u001b[0m\u001b[1;33m\u001b[0m\u001b[1;33m\u001b[0m\u001b[0m\n\u001b[0m\u001b[0;32m     11\u001b[0m             \u001b[0mprob0\u001b[0m\u001b[1;33m,\u001b[0m\u001b[0mprob1\u001b[0m \u001b[1;33m=\u001b[0m \u001b[0mcalculateProb\u001b[0m\u001b[1;33m(\u001b[0m\u001b[0mn1\u001b[0m\u001b[1;33m,\u001b[0m\u001b[0mn0\u001b[0m\u001b[1;33m,\u001b[0m\u001b[0mnumOfValues\u001b[0m\u001b[1;33m[\u001b[0m\u001b[0mvar\u001b[0m\u001b[1;33m]\u001b[0m\u001b[1;33m)\u001b[0m\u001b[1;33m\u001b[0m\u001b[1;33m\u001b[0m\u001b[0m\n\u001b[0;32m     12\u001b[0m         \u001b[0mprobability\u001b[0m\u001b[1;33m[\u001b[0m\u001b[0mrow\u001b[0m\u001b[1;33m,\u001b[0m\u001b[1;36m0\u001b[0m\u001b[1;33m]\u001b[0m \u001b[1;33m*=\u001b[0m\u001b[0mprob0\u001b[0m\u001b[1;33m\u001b[0m\u001b[1;33m\u001b[0m\u001b[0m\n",
      "\u001b[1;32m<ipython-input-29-acc571941b83>\u001b[0m in \u001b[0;36mgetN1andN0\u001b[1;34m(value, index, dataset)\u001b[0m\n\u001b[0;32m      7\u001b[0m         \u001b[1;32mif\u001b[0m\u001b[1;33m(\u001b[0m\u001b[0mvariable\u001b[0m\u001b[1;33m[\u001b[0m\u001b[0mi\u001b[0m\u001b[1;33m]\u001b[0m\u001b[1;33m==\u001b[0m\u001b[0mvalue\u001b[0m\u001b[1;33m)\u001b[0m\u001b[1;33m:\u001b[0m\u001b[1;33m\u001b[0m\u001b[1;33m\u001b[0m\u001b[0m\n\u001b[0;32m      8\u001b[0m             \u001b[1;32mif\u001b[0m\u001b[1;33m(\u001b[0m\u001b[0mclassVector\u001b[0m\u001b[1;33m[\u001b[0m\u001b[0mi\u001b[0m\u001b[1;33m]\u001b[0m\u001b[1;33m==\u001b[0m\u001b[1;36m1\u001b[0m\u001b[1;33m)\u001b[0m\u001b[1;33m:\u001b[0m\u001b[1;33m\u001b[0m\u001b[1;33m\u001b[0m\u001b[0m\n\u001b[1;32m----> 9\u001b[1;33m                 \u001b[0mn1\u001b[0m \u001b[1;33m=\u001b[0m\u001b[0mn1\u001b[0m\u001b[1;33m+\u001b[0m\u001b[1;36m1\u001b[0m\u001b[1;33m\u001b[0m\u001b[1;33m\u001b[0m\u001b[0m\n\u001b[0m\u001b[0;32m     10\u001b[0m             \u001b[1;32melse\u001b[0m\u001b[1;33m:\u001b[0m\u001b[1;33m\u001b[0m\u001b[1;33m\u001b[0m\u001b[0m\n\u001b[0;32m     11\u001b[0m                 \u001b[0mn0\u001b[0m \u001b[1;33m=\u001b[0m \u001b[0mn0\u001b[0m\u001b[1;33m+\u001b[0m\u001b[1;36m1\u001b[0m\u001b[1;33m\u001b[0m\u001b[1;33m\u001b[0m\u001b[0m\n",
      "\u001b[1;31mKeyboardInterrupt\u001b[0m: "
     ]
    }
   ],
   "source": [
    "# Doing 5 fold cross validation\n",
    "from sklearn.model_selection import KFold\n",
    "kf = KFold(n_splits = 5)\n",
    "kf.get_n_splits(train_set)\n",
    "\n",
    "for train_index, test_index in kf.split(train_set):\n",
    "    train1, test1 = train_set[train_index], train_set[test_index]\n",
    "    y_train = train1[:,-1]\n",
    "    y_test = test1[:,-1]\n",
    "    conti_train,dis_train = prepareData(train1)\n",
    "    summaries_train = summarizeByClass(conti_train)\n",
    "    prob1 = calculateProbDiscrete(dis_train)\n",
    "    predictions,y_score = getPredictions(summaries_train, conti_train, prob1)\n",
    "    getResult(y_train,predictions,y_score)\n",
    "    conti_train,dis_train = prepareData(test1)\n",
    "    summaries_train = summarizeByClass(conti_train)\n",
    "    prob1 = calculateProbDiscrete(dis_train)\n",
    "    predictions,y_score = getPredictions(summaries_train, conti_train, prob1)\n",
    "    getResult(y_test,predictions,y_score)"
   ]
  },
  {
   "cell_type": "code",
   "execution_count": null,
   "metadata": {},
   "outputs": [],
   "source": [
    "kf.get_n_splits(train_set_B)\n",
    "\n",
    "for train_index, test_index in kf.split(train_set_B):\n",
    "    train1, test1 = train_set_B[train_index], train_set_B[test_index]\n",
    "    y_train = train1[:,-1]\n",
    "    y_test = test1[:,-1]\n",
    "    conti_train,dis_train = prepareData(train1)\n",
    "    summaries_train = summarizeByClass(conti_train)\n",
    "    prob1 = calculateProbDiscrete(dis_train)\n",
    "    predictions,y_score = getPredictions(summaries_train, conti_train, prob1)\n",
    "    getResult(y_train,predictions,y_score)\n",
    "    conti_train,dis_train = prepareData(test1)\n",
    "    summaries_train = summarizeByClass(conti_train)\n",
    "    prob1 = calculateProbDiscrete(dis_train)\n",
    "    predictions,y_score = getPredictions(summaries_train, conti_train, prob1)\n",
    "    getResult(y_test,predictions,y_score)"
   ]
  },
  {
   "cell_type": "markdown",
   "metadata": {},
   "source": [
    "Task 2.2 Running the classifier on training data"
   ]
  },
  {
   "cell_type": "code",
   "execution_count": 37,
   "metadata": {},
   "outputs": [
    {
     "name": "stdout",
     "output_type": "stream",
     "text": [
      "Naive Bayes Classifier\n",
      "confusion matrix =  [[15043    38]\n",
      " [ 1614    57]]\n",
      "tp =  57 fp =  38 fn =  1614 tn =  15043\n",
      "accuracy score  =  0.9013849092645654\n",
      "precision =  0.6\n",
      "recall =  0.03411131059245961\n",
      "F1-score =  0.06455266138165346\n",
      "auc =  0.545554762312636\n",
      "Cost for less false negative =  161381\n",
      "Cost for less false positive =  5357\n"
     ]
    },
    {
     "data": {
      "image/png": "[encoded data removed]",
      "text/plain": [
       "<Figure size 432x288 with 1 Axes>"
      ]
     },
     "metadata": {
      "needs_background": "light"
     },
     "output_type": "display_data"
    }
   ],
   "source": [
    "# Running classifier on train data A\n",
    "conti_train,dis_train = prepareData(train_set)\n",
    "summaries = summarizeByClass(conti_train)\n",
    "prob1 = calculateProbDiscrete(dis_train)\n",
    "predictions,y_score = getPredictions(summaries, conti_train, prob1)\n",
    "getResult(Y_train,predictions,y_score)"
   ]
  },
  {
   "cell_type": "markdown",
   "metadata": {},
   "source": [
    "Task 2.3 Running it on test data"
   ]
  },
  {
   "cell_type": "code",
   "execution_count": 38,
   "metadata": {},
   "outputs": [
    {
     "name": "stdout",
     "output_type": "stream",
     "text": [
      "Naive Bayes Classifier\n",
      "confusion matrix =  [[3758    7]\n",
      " [ 411   12]]\n",
      "tp =  12 fp =  7 fn =  411 tn =  3758\n",
      "accuracy score  =  0.9001910219675263\n",
      "precision =  0.631578947368421\n",
      "recall =  0.028368794326241134\n",
      "F1-score =  0.05429864253393665\n",
      "auc =  0.5670051080155344\n",
      "Cost for less false negative =  41095\n",
      "Cost for less false positive =  1099\n"
     ]
    },
    {
     "data": {
      "image/png": "[encoded data removed]",
      "text/plain": [
       "<Figure size 432x288 with 1 Axes>"
      ]
     },
     "metadata": {
      "needs_background": "light"
     },
     "output_type": "display_data"
    }
   ],
   "source": [
    "# Running classifier on test data A\n",
    "conti_test,dis_test = prepareData(test_set)\n",
    "summaries = summarizeByClass(conti_test)\n",
    "prob1 = calculateProbDiscrete(dis_test)\n",
    "predictions,y_score = getPredictions(summaries, conti_test, prob1)\n",
    "getResult(Y_test,predictions,y_score)"
   ]
  },
  {
   "cell_type": "code",
   "execution_count": 39,
   "metadata": {},
   "outputs": [
    {
     "name": "stdout",
     "output_type": "stream",
     "text": [
      "Naive Bayes Classifier\n",
      "confusion matrix =  [[19092     0]\n",
      " [ 2136     4]]\n",
      "tp =  4 fp =  0 fn =  2136 tn =  19092\n",
      "accuracy score  =  0.89939713639789\n",
      "precision =  1.0\n",
      "recall =  0.001869158878504673\n",
      "F1-score =  0.0037313432835820895\n",
      "auc =  0.49794502174419586\n",
      "Cost for less false negative =  213596\n",
      "Cost for less false positive =  2132\n"
     ]
    },
    {
     "data": {
      "image/png": "[encoded data removed]",
      "text/plain": [
       "<Figure size 432x288 with 1 Axes>"
      ]
     },
     "metadata": {
      "needs_background": "light"
     },
     "output_type": "display_data"
    }
   ],
   "source": [
    "# Running classifier on train data B\n",
    "conti_trainB,dis_trainB = prepareData(train_set_B)\n",
    "summaries_B = summarizeByClass(conti_trainB)\n",
    "prob1 = calculateProbDiscrete(dis_trainB)\n",
    "predictions_B,y_score = getPredictions(summaries_B, conti_trainB, prob1)\n",
    "getResult(Y_train_B,predictions_B,y_score)"
   ]
  },
  {
   "cell_type": "code",
   "execution_count": 40,
   "metadata": {},
   "outputs": [
    {
     "name": "stdout",
     "output_type": "stream",
     "text": [
      "Naive Bayes Classifier\n",
      "confusion matrix =  [[4794    0]\n",
      " [ 511    3]]\n",
      "tp =  3 fp =  0 fn =  511 tn =  4794\n",
      "accuracy score  =  0.9037302185380558\n",
      "precision =  1.0\n",
      "recall =  0.005836575875486381\n",
      "F1-score =  0.01160541586073501\n",
      "auc =  0.4910452673494268\n",
      "Cost for less false negative =  51097\n",
      "Cost for less false positive =  508\n"
     ]
    },
    {
     "data": {
      "image/png": "[encoded data removed]",
      "text/plain": [
       "<Figure size 432x288 with 1 Axes>"
      ]
     },
     "metadata": {
      "needs_background": "light"
     },
     "output_type": "display_data"
    }
   ],
   "source": [
    "# Running classifier on test data B\n",
    "conti_testB,dis_testB = prepareData(test_set_B)\n",
    "summaries_B = summarizeByClass(conti_testB)\n",
    "prob1 = calculateProbDiscrete(dis_testB)\n",
    "predictions_B,y_score = getPredictions(summaries_B, conti_testB, prob1)\n",
    "getResult(Y_test_B,predictions_B,y_score)"
   ]
  },
  {
   "cell_type": "markdown",
   "metadata": {},
   "source": [
    "Task 2.4 The classifier is behaving the same for both training and test data so that sjhows that there is no overfitting or underfitting"
   ]
  },
  {
   "cell_type": "code",
   "execution_count": null,
   "metadata": {},
   "outputs": [],
   "source": []
  }
 ],
 "metadata": {
  "kernelspec": {
   "display_name": "Python 3",
   "language": "python",
   "name": "python3"
  },
  "language_info": {
   "codemirror_mode": {
    "name": "ipython",
    "version": 3
   },
   "file_extension": ".py",
   "mimetype": "text/x-python",
   "name": "python",
   "nbconvert_exporter": "python",
   "pygments_lexer": "ipython3",
   "version": "3.7.1"
  }
 },
 "nbformat": 4,
 "nbformat_minor": 2
}
